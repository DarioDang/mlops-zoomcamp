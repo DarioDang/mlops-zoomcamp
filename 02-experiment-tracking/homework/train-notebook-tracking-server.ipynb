{
 "cells": [
  {
   "cell_type": "code",
   "execution_count": 10,
   "id": "a8155810",
   "metadata": {},
   "outputs": [],
   "source": [
    "import os\n",
    "import pickle\n",
    "import click\n",
    "import mlflow\n",
    "import numpy as np\n",
    "from hyperopt import STATUS_OK, Trials, fmin, hp, tpe\n",
    "from hyperopt.pyll import scope\n",
    "from sklearn.ensemble import RandomForestRegressor\n",
    "from sklearn.metrics import mean_squared_error"
   ]
  },
  {
   "cell_type": "code",
   "execution_count": 11,
   "id": "a39cdf1d",
   "metadata": {},
   "outputs": [
    {
     "data": {
      "text/plain": [
       "<Experiment: artifact_location='/workspaces/mlops-zoomcamp/02-experiment-tracking/homework/artifacts_local/2', creation_time=1746781142000, experiment_id='2', last_update_time=1746781142000, lifecycle_stage='active', name='random-forest-hyperopt', tags={}>"
      ]
     },
     "execution_count": 11,
     "metadata": {},
     "output_type": "execute_result"
    }
   ],
   "source": [
    "# Set the tracking URI to the same one used in your UI\n",
    "mlflow.set_tracking_uri(\"http://127.0.0.1:5003\")  \n",
    "\n",
    "# Create or set the experiment\n",
    "mlflow.set_experiment(\"random-forest-hyperopt\")"
   ]
  },
  {
   "cell_type": "code",
   "execution_count": 12,
   "id": "afe6cffe",
   "metadata": {},
   "outputs": [],
   "source": [
    "def load_pickle(filename: str):\n",
    "    with open(filename, \"rb\") as f_in:\n",
    "        return pickle.load(f_in)"
   ]
  },
  {
   "cell_type": "code",
   "execution_count": 16,
   "id": "97b2fc61",
   "metadata": {},
   "outputs": [
    {
     "name": "stdout",
     "output_type": "stream",
     "text": [
      "🏃 View run RandomForest at: http://127.0.0.1:5003/#/experiments/2/runs/0dc73f65c66844589ae1d833aa7cdef2                                                                                  \n",
      "\n",
      "🧪 View experiment at: http://127.0.0.1:5003/#/experiments/2                                                                                                                              \n",
      "\n",
      "🏃 View run RandomForest at: http://127.0.0.1:5003/#/experiments/2/runs/96d4fe7adbbb42b3936ffc247611680b                                                                                  \n",
      "\n",
      "🧪 View experiment at: http://127.0.0.1:5003/#/experiments/2                                                                                                                              \n",
      "\n",
      "🏃 View run RandomForest at: http://127.0.0.1:5003/#/experiments/2/runs/fe0c3b35ba8949ea80cb41b0c17c3f53                                                                                  \n",
      "\n",
      "🧪 View experiment at: http://127.0.0.1:5003/#/experiments/2                                                                                                                              \n",
      "\n",
      "🏃 View run RandomForest at: http://127.0.0.1:5003/#/experiments/2/runs/1f0f3e74728041e6bf9decea8b52bd67                                                                                  \n",
      "\n",
      "🧪 View experiment at: http://127.0.0.1:5003/#/experiments/2                                                                                                                              \n",
      "\n",
      "🏃 View run RandomForest at: http://127.0.0.1:5003/#/experiments/2/runs/3c3bf76c740f42078a4fe680ee8543a5                                                                                  \n",
      "\n",
      "🧪 View experiment at: http://127.0.0.1:5003/#/experiments/2                                                                                                                              \n",
      "\n",
      "🏃 View run RandomForest at: http://127.0.0.1:5003/#/experiments/2/runs/9ccbacded8304cf9832b65df4667cda3                                                                                  \n",
      "\n",
      "🧪 View experiment at: http://127.0.0.1:5003/#/experiments/2                                                                                                                              \n",
      "\n",
      "🏃 View run RandomForest at: http://127.0.0.1:5003/#/experiments/2/runs/8902b3f4723b4d5199b76d52c3965a25                                                                                  \n",
      "\n",
      "🧪 View experiment at: http://127.0.0.1:5003/#/experiments/2                                                                                                                              \n",
      "\n",
      "🏃 View run RandomForest at: http://127.0.0.1:5003/#/experiments/2/runs/7854ea985bdc4fe0a523757f777166c6                                                                                  \n",
      "\n",
      "🧪 View experiment at: http://127.0.0.1:5003/#/experiments/2                                                                                                                              \n",
      "\n",
      "🏃 View run RandomForest at: http://127.0.0.1:5003/#/experiments/2/runs/38a480f02ddc44c0826f69d766e238cd                                                                                  \n",
      "\n",
      "🧪 View experiment at: http://127.0.0.1:5003/#/experiments/2                                                                                                                              \n",
      "\n",
      "🏃 View run RandomForest at: http://127.0.0.1:5003/#/experiments/2/runs/a115c8ff567547928910e3f0de786558                                                                                  \n",
      "\n",
      "🧪 View experiment at: http://127.0.0.1:5003/#/experiments/2                                                                                                                              \n",
      "\n",
      "🏃 View run RandomForest at: http://127.0.0.1:5003/#/experiments/2/runs/daf0583f73df43c7b971d22b8c9e126f                                                                                  \n",
      "\n",
      "🧪 View experiment at: http://127.0.0.1:5003/#/experiments/2                                                                                                                              \n",
      "\n",
      "🏃 View run RandomForest at: http://127.0.0.1:5003/#/experiments/2/runs/d33f1875537e44f4b64a02d7e0d36ca7                                                                                  \n",
      "\n",
      "🧪 View experiment at: http://127.0.0.1:5003/#/experiments/2                                                                                                                              \n",
      "\n",
      "🏃 View run RandomForest at: http://127.0.0.1:5003/#/experiments/2/runs/d5fb591e5796494ab8086fdd70f67ac0                                                                                  \n",
      "\n",
      "🧪 View experiment at: http://127.0.0.1:5003/#/experiments/2                                                                                                                              \n",
      "\n",
      "🏃 View run RandomForest at: http://127.0.0.1:5003/#/experiments/2/runs/7098e0a317e946af9f0e161b59dd5415                                                                                  \n",
      "\n",
      "🧪 View experiment at: http://127.0.0.1:5003/#/experiments/2                                                                                                                              \n",
      "\n",
      "🏃 View run RandomForest at: http://127.0.0.1:5003/#/experiments/2/runs/f630ba5ed29e47629b927a1c07e6d411                                                                                  \n",
      "\n",
      "🧪 View experiment at: http://127.0.0.1:5003/#/experiments/2                                                                                                                              \n",
      "\n",
      "🏃 View run RandomForest at: http://127.0.0.1:5003/#/experiments/2/runs/9f7250b69e304b1aa16a2e5ec840ccaf                                                                                  \n",
      "\n",
      "🧪 View experiment at: http://127.0.0.1:5003/#/experiments/2                                                                                                                              \n",
      "\n",
      "🏃 View run RandomForest at: http://127.0.0.1:5003/#/experiments/2/runs/8466989ce1bc47228f88c27b11f03b88                                                                                  \n",
      "\n",
      "🧪 View experiment at: http://127.0.0.1:5003/#/experiments/2                                                                                                                              \n",
      "\n",
      "🏃 View run RandomForest at: http://127.0.0.1:5003/#/experiments/2/runs/24e733b8f9b9464eb431bae7e403762d                                                                                  \n",
      "\n",
      "🧪 View experiment at: http://127.0.0.1:5003/#/experiments/2                                                                                                                              \n",
      "\n",
      "🏃 View run RandomForest at: http://127.0.0.1:5003/#/experiments/2/runs/1fddae039b1b443e9a4662e58d91183f                                                                                  \n",
      "\n",
      "🧪 View experiment at: http://127.0.0.1:5003/#/experiments/2                                                                                                                              \n",
      "\n",
      "🏃 View run RandomForest at: http://127.0.0.1:5003/#/experiments/2/runs/77ef2e7a60eb4398a9cffe3addde952e                                                                                  \n",
      "\n",
      "🧪 View experiment at: http://127.0.0.1:5003/#/experiments/2                                                                                                                              \n",
      "\n",
      "100%|████████████████████████████████████████████████████████████████████████████████████████████████████████████████████| 20/20 [01:17<00:00,  3.90s/trial, best loss: 5.322418787243458]\n"
     ]
    }
   ],
   "source": [
    "def run_optimization(data_path: str = \"./output\", num_trials: int = 20):\n",
    "\n",
    "    X_train, y_train = load_pickle(os.path.join(data_path, \"train.pkl\"))\n",
    "    X_val, y_val = load_pickle(os.path.join(data_path, \"val.pkl\"))\n",
    "\n",
    "    def objective(params):\n",
    "        \n",
    "        with mlflow.start_run(run_name=\"RandomForest\"):\n",
    "            mlflow.set_tag(\"developer\",\"Dario\")\n",
    "            mlflow.set_tag(\"model\", \"RandomForest\")\n",
    "\n",
    "            rf = RandomForestRegressor(**params)\n",
    "            rf.fit(X_train, y_train)\n",
    "            y_pred = rf.predict(X_val)\n",
    "            rmse = mean_squared_error(y_val, y_pred, squared=False)\n",
    "\n",
    "            # Log RMSE and hyperparameters to MLflow\n",
    "            mlflow.log_metric(\"rmse\", rmse)\n",
    "            mlflow.log_params(params)\n",
    "\n",
    "            return {'loss': rmse, 'status': STATUS_OK}\n",
    "\n",
    "    search_space = {\n",
    "        'max_depth': scope.int(hp.quniform('max_depth', 1, 20, 1)),\n",
    "        'n_estimators': scope.int(hp.quniform('n_estimators', 10, 50, 1)),\n",
    "        'min_samples_split': scope.int(hp.quniform('min_samples_split', 2, 10, 1)),\n",
    "        'min_samples_leaf': scope.int(hp.quniform('min_samples_leaf', 1, 4, 1)),\n",
    "        'random_state': 42\n",
    "    }\n",
    "\n",
    "    rstate = np.random.default_rng(42)  # for reproducible results\n",
    "    fmin(\n",
    "        fn=objective,\n",
    "        space=search_space,\n",
    "        algo=tpe.suggest,\n",
    "        max_evals=num_trials,\n",
    "        trials=Trials(),\n",
    "        rstate=rstate\n",
    "    )\n",
    "\n",
    "\n",
    "if __name__ == '__main__':\n",
    "    run_optimization()"
   ]
  },
  {
   "cell_type": "code",
   "execution_count": 17,
   "id": "eba47ef8",
   "metadata": {},
   "outputs": [
    {
     "name": "stdout",
     "output_type": "stream",
     "text": [
      "Default artifacts URI: '/workspaces/mlops-zoomcamp/02-experiment-tracking/homework/artifacts_local/2/b08015df98ac4c6fa55c37b91775c86a/artifacts'\n"
     ]
    }
   ],
   "source": [
    "print(f\"Default artifacts URI: '{mlflow.get_artifact_uri()}'\")"
   ]
  },
  {
   "cell_type": "code",
   "execution_count": null,
   "id": "2c01bcdf",
   "metadata": {},
   "outputs": [],
   "source": []
  }
 ],
 "metadata": {
  "kernelspec": {
   "display_name": "Python 3 (ipykernel)",
   "language": "python",
   "name": "python3"
  },
  "language_info": {
   "codemirror_mode": {
    "name": "ipython",
    "version": 3
   },
   "file_extension": ".py",
   "mimetype": "text/x-python",
   "name": "python",
   "nbconvert_exporter": "python",
   "pygments_lexer": "ipython3",
   "version": "3.9.12"
  }
 },
 "nbformat": 4,
 "nbformat_minor": 5
}
