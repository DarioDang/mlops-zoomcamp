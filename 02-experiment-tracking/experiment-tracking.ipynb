{
 "cells": [
  {
   "cell_type": "code",
   "execution_count": 1,
   "id": "262d5037",
   "metadata": {},
   "outputs": [
    {
     "name": "stdout",
     "output_type": "stream",
     "text": [
      "Python 3.9.12\r\n"
     ]
    }
   ],
   "source": [
    "!python -V"
   ]
  },
  {
   "cell_type": "code",
   "execution_count": 2,
   "id": "6c9eaeea",
   "metadata": {},
   "outputs": [],
   "source": [
    "# import library \n",
    "import pandas as pd \n",
    "import pickle\n",
    "from sklearn.feature_extraction import DictVectorizer\n",
    "from sklearn.linear_model import LinearRegression \n",
    "from sklearn.linear_model import Lasso\n",
    "from sklearn.metrics import mean_squared_error"
   ]
  },
  {
   "cell_type": "code",
   "execution_count": 5,
   "id": "e69bc1e7",
   "metadata": {},
   "outputs": [
    {
     "name": "stderr",
     "output_type": "stream",
     "text": [
      "2025/05/04 23:37:31 INFO mlflow.tracking.fluent: Experiment with name 'nyc-taxi-experiment' does not exist. Creating a new experiment.\n"
     ]
    },
    {
     "data": {
      "text/plain": [
       "<Experiment: artifact_location='mlflow-artifacts:/1', creation_time=1746401851956, experiment_id='1', last_update_time=1746401851956, lifecycle_stage='active', name='nyc-taxi-experiment', tags={}>"
      ]
     },
     "execution_count": 5,
     "metadata": {},
     "output_type": "execute_result"
    }
   ],
   "source": [
    "import mlflow\n",
    "\n",
    "# Set the tracking URI to the same one used in your UI\n",
    "mlflow.set_tracking_uri(\"http://127.0.0.1:5001\")  \n",
    "\n",
    "# Create or set the experiment\n",
    "mlflow.set_experiment(\"nyc-taxi-experiment\")"
   ]
  },
  {
   "cell_type": "markdown",
   "id": "60a995e3",
   "metadata": {},
   "source": [
    "### Put all the proccessing into a function"
   ]
  },
  {
   "cell_type": "code",
   "execution_count": 6,
   "id": "006c6293",
   "metadata": {},
   "outputs": [],
   "source": [
    "def read_dataframe(filename):\n",
    "    \"Write a function to read and preprocessing data\"\n",
    "    # Read the dataset\n",
    "    df_taxi = pd.read_parquet(filename)\n",
    "\n",
    "    # Adjust dropoff & pickup to pandas datetime \n",
    "    df_taxi['lpep_pickup_datetime'] = pd.to_datetime(df_taxi.lpep_pickup_datetime)\n",
    "    df_taxi['lpep_dropoff_datetime'] = pd.to_datetime(df_taxi.lpep_dropoff_datetime)\n",
    "    \n",
    "    # Calculate the duration (drop_off -  pick_up)\n",
    "    df_taxi['duration'] = df_taxi.lpep_dropoff_datetime - df_taxi.lpep_pickup_datetime\n",
    "    \n",
    "    # Adjust the duration in minutes for prediction \n",
    "    df_taxi['duration_minutes'] = df_taxi['duration'].dt.total_seconds() / 60\n",
    "\n",
    "    # Since there are a lot of duration less than 1 minutes. We filter only duration between 1 minutes to 99% percentile\n",
    "    df_taxi = df_taxi[(df_taxi['duration_minutes'] >= 1) & (df_taxi['duration_minutes'] <= 60)]\n",
    "\n",
    "    # Feature Engineering \n",
    "    categorical_variables = ['PULocationID', 'DOLocationID']\n",
    "    numerical_variables = ['trip_distance']\n",
    "\n",
    "    # Convert it into \"str\"\n",
    "    df_taxi[categorical_variables] = df_taxi[categorical_variables].astype(str)\n",
    "    \n",
    "    return df_taxi"
   ]
  },
  {
   "cell_type": "code",
   "execution_count": 7,
   "id": "b6e108a0",
   "metadata": {},
   "outputs": [],
   "source": [
    "df_train = read_dataframe('../00-Dataset/green_tripdata_2021-01.parquet')\n",
    "df_val = read_dataframe('../00-Dataset/green_tripdata_2021-02.parquet')"
   ]
  },
  {
   "cell_type": "code",
   "execution_count": 8,
   "id": "9db72730",
   "metadata": {},
   "outputs": [
    {
     "data": {
      "text/plain": [
       "(73908, 61921)"
      ]
     },
     "execution_count": 8,
     "metadata": {},
     "output_type": "execute_result"
    }
   ],
   "source": [
    "len(df_train), len(df_val)"
   ]
  },
  {
   "cell_type": "markdown",
   "id": "b0eee79d",
   "metadata": {},
   "source": [
    "### Create the training pipeline "
   ]
  },
  {
   "cell_type": "code",
   "execution_count": 9,
   "id": "3ae7b64d",
   "metadata": {},
   "outputs": [],
   "source": [
    "# Feature Engineering \n",
    "categorical_variables = ['PULocationID', 'DOLocationID']\n",
    "numerical_variables = ['trip_distance']\n",
    "\n",
    "# Vectorizer the training variables \n",
    "dv = DictVectorizer()\n",
    "\n",
    "# Convert it into dictionary \n",
    "train_dicts = df_train[categorical_variables + numerical_variables].to_dict(orient = 'records')\n",
    "X_train = dv.fit_transform(train_dicts)\n",
    "\n",
    "# Create the validation set \n",
    "val_dicts = df_val[categorical_variables + numerical_variables].to_dict(orient = 'records')\n",
    "X_val = dv.transform(val_dicts)"
   ]
  },
  {
   "cell_type": "code",
   "execution_count": 10,
   "id": "f44f5be3",
   "metadata": {},
   "outputs": [],
   "source": [
    "# Setup the Prediction_Variables \n",
    "predictor = 'duration_minutes'\n",
    "y_train = df_train[predictor].values\n",
    "y_val = df_val[predictor].values"
   ]
  },
  {
   "cell_type": "code",
   "execution_count": 11,
   "id": "46ac1519",
   "metadata": {},
   "outputs": [
    {
     "data": {
      "text/plain": [
       "10.47390313604031"
      ]
     },
     "execution_count": 11,
     "metadata": {},
     "output_type": "execute_result"
    }
   ],
   "source": [
    "# Train the model \n",
    "lr = LinearRegression() \n",
    "lr.fit(X_train, y_train)\n",
    "\n",
    "# Make a prediction \n",
    "y_pred = lr.predict(X_val)\n",
    "\n",
    "# Calculate the performance (RMSE)\n",
    "mean_squared_error(y_val, y_pred, squared = False) "
   ]
  },
  {
   "cell_type": "markdown",
   "id": "b0cb2f20",
   "metadata": {},
   "source": [
    "### Try To Combine the input features "
   ]
  },
  {
   "cell_type": "code",
   "execution_count": 12,
   "id": "dde48eb7",
   "metadata": {},
   "outputs": [],
   "source": [
    "df_train['PU_DO'] = df_train['PULocationID'] + '_' + df_train['DOLocationID']\n",
    "df_val['PU_DO'] = df_val['PULocationID'] + '_' + df_val['DOLocationID']"
   ]
  },
  {
   "cell_type": "code",
   "execution_count": 13,
   "id": "3d52ad9a",
   "metadata": {},
   "outputs": [],
   "source": [
    "# Feature Engineering \n",
    "categorical_variables = ['PU_DO']  #['PULocationID', 'DOLocationID']\n",
    "numerical_variables = ['trip_distance']\n",
    "\n",
    "# Vectorizer the training variables \n",
    "dv = DictVectorizer()\n",
    "\n",
    "# Convert it into dictionary \n",
    "train_dicts = df_train[categorical_variables + numerical_variables].to_dict(orient = 'records')\n",
    "X_train = dv.fit_transform(train_dicts)\n",
    "\n",
    "# Create the validation set \n",
    "val_dicts = df_val[categorical_variables + numerical_variables].to_dict(orient = 'records')\n",
    "X_val = dv.transform(val_dicts)"
   ]
  },
  {
   "cell_type": "code",
   "execution_count": 14,
   "id": "a6990868",
   "metadata": {},
   "outputs": [],
   "source": [
    "# Setup the Prediction_Variables \n",
    "predictor = 'duration_minutes'\n",
    "y_train = df_train[predictor].values\n",
    "y_val = df_val[predictor].values"
   ]
  },
  {
   "cell_type": "code",
   "execution_count": 15,
   "id": "084c1174",
   "metadata": {},
   "outputs": [
    {
     "data": {
      "text/plain": [
       "7.479586896299878"
      ]
     },
     "execution_count": 15,
     "metadata": {},
     "output_type": "execute_result"
    }
   ],
   "source": [
    "# Train the model \n",
    "lr = LinearRegression() \n",
    "lr.fit(X_train, y_train)\n",
    "\n",
    "# Make a prediction \n",
    "y_pred = lr.predict(X_val)\n",
    "\n",
    "# Calculate the performance (RMSE)\n",
    "mean_squared_error(y_val, y_pred, squared = False) "
   ]
  },
  {
   "cell_type": "markdown",
   "id": "de61b476",
   "metadata": {},
   "source": [
    "### Try with Lasso Regression"
   ]
  },
  {
   "cell_type": "code",
   "execution_count": 74,
   "id": "eeb0be27",
   "metadata": {},
   "outputs": [
    {
     "data": {
      "text/plain": [
       "10.47054920225702"
      ]
     },
     "execution_count": 74,
     "metadata": {},
     "output_type": "execute_result"
    }
   ],
   "source": [
    "# Train the model \n",
    "lr = Lasso(alpha= 0.0001) \n",
    "lr.fit(X_train, y_train)\n",
    "\n",
    "# Make a prediction \n",
    "y_pred = lr.predict(X_val)\n",
    "\n",
    "# Calculate the performance (RMSE)\n",
    "mean_squared_error(y_val, y_pred, squared = False) "
   ]
  },
  {
   "cell_type": "markdown",
   "id": "9ac69202",
   "metadata": {},
   "source": [
    "### Using MLFlow to automated "
   ]
  },
  {
   "cell_type": "code",
   "execution_count": 16,
   "id": "a7a1c0f7",
   "metadata": {},
   "outputs": [
    {
     "name": "stdout",
     "output_type": "stream",
     "text": [
      "🏃 View run capricious-trout-752 at: http://127.0.0.1:5001/#/experiments/1/runs/dfc2a88bfc6b4ceb88fa586e9d6652f2\n",
      "🧪 View experiment at: http://127.0.0.1:5001/#/experiments/1\n"
     ]
    }
   ],
   "source": [
    "with mlflow.start_run():\n",
    "    \n",
    "    #set the tag name for who response\n",
    "    mlflow.set_tag(\"developer\",\"dario\")\n",
    "    \n",
    "    #set the training and validation\n",
    "    mlflow.log_param(\"train-data-path\", \"../00-Dataset/green_tripdata_2021-01.parquet\")\n",
    "    mlflow.log_param(\"valid-data-path\", \"../00-Dataset/green_tripdata_2021-02.parquet\")\n",
    "    \n",
    "    #set the alpha\n",
    "    alpha = 0.01\n",
    "    mlflow.log_param(\"alpha\", alpha)\n",
    "    \n",
    "    \n",
    "    lr = Lasso(alpha= 0.1) \n",
    "    lr.fit(X_train, y_train)\n",
    "\n",
    "    # Make a prediction \n",
    "    y_pred = lr.predict(X_val)\n",
    "\n",
    "    # Calculate the performance (RMSE)\n",
    "    rmse = mean_squared_error(y_val, y_pred, squared = False) \n",
    "    mlflow.log_metric(\"rmse\", rmse)"
   ]
  },
  {
   "cell_type": "code",
   "execution_count": null,
   "id": "ffcf16a2",
   "metadata": {},
   "outputs": [],
   "source": []
  }
 ],
 "metadata": {
  "kernelspec": {
   "display_name": "Python 3 (ipykernel)",
   "language": "python",
   "name": "python3"
  }
 },
 "nbformat": 4,
 "nbformat_minor": 5
}
