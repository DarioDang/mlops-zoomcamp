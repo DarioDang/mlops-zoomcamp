{
 "cells": [
  {
   "cell_type": "markdown",
   "id": "1988cabb-c107-4e73-9489-17baf165f44e",
   "metadata": {},
   "source": [
    "# Baseline model for batch monitoring "
   ]
  },
  {
   "cell_type": "code",
   "execution_count": 2,
   "id": "7a7f9135-2956-49d5-a109-ba592381c155",
   "metadata": {},
   "outputs": [],
   "source": [
    "import pandas as pd \n",
    "import requests \n",
    "import datetime\n",
    "import pyarrow\n",
    "from joblib import load, dump\n",
    "from tqdm import tqdm\n",
    "from evidently import ColumnMapping\n",
    "from evidently.report import Report\n",
    "from evidently.metrics import ColumnDriftMetric, DatasetDriftMetric, DatasetMissingValuesMetric\n",
    "\n",
    "from evidently.metrics import ColumnQuantileMetric\n",
    "from evidently.report import Report\n",
    "\n",
    "from sklearn.linear_model import LinearRegression\n",
    "from sklearn.metrics import mean_absolute_error, mean_squared_error, mean_absolute_percentage_error\n",
    "from sklearn.feature_extraction import DictVectorizer"
   ]
  },
  {
   "cell_type": "code",
   "execution_count": 3,
   "id": "c89e6366-123b-4ded-9f25-cc2689efa061",
   "metadata": {},
   "outputs": [],
   "source": [
    "# Load the raw dataset (no preprocessing!)\n",
    "url = 'https://d37ci6vzurychx.cloudfront.net/trip-data/green_tripdata_2024-03.parquet'\n",
    "march_data_2024 = pd.read_parquet(url)\n"
   ]
  },
  {
   "cell_type": "markdown",
   "id": "96b24c51",
   "metadata": {},
   "source": [
    "## Q1: Shape of the downloading data "
   ]
  },
  {
   "cell_type": "code",
   "execution_count": 4,
   "id": "63e48ec1",
   "metadata": {},
   "outputs": [
    {
     "data": {
      "text/plain": [
       "(57457, 20)"
      ]
     },
     "execution_count": 4,
     "metadata": {},
     "output_type": "execute_result"
    }
   ],
   "source": [
    "march_data_2024.shape"
   ]
  },
  {
   "cell_type": "markdown",
   "id": "66041ecc",
   "metadata": {},
   "source": [
    "## Q2: What metric did you choose?\n",
    "\n",
    "I chose to monitor the median (50th percentile) of the fare_amount column using the ColumnQuantileMetric."
   ]
  },
  {
   "cell_type": "markdown",
   "id": "53bf43e3",
   "metadata": {},
   "source": [
    "## Q3: What is the maximum value of metric quantile = 0.5 on the \"fare_amount\" column during March 2024 (calculated daily)?"
   ]
  },
  {
   "cell_type": "code",
   "execution_count": 6,
   "id": "935924bf",
   "metadata": {},
   "outputs": [
    {
     "name": "stdout",
     "output_type": "stream",
     "text": [
      " Max median fare in March 2024: 2024-03-03\n",
      " Max median fare_amount: 14.2\n"
     ]
    }
   ],
   "source": [
    "# Extract pickup date (for grouping)\n",
    "march_data_2024['lpep_pickup_date'] = pd.to_datetime(march_data_2024['lpep_pickup_datetime']).dt.date\n",
    "\n",
    "# Store daily median fare_amount values\n",
    "daily_medians = []\n",
    "\n",
    "for day, day_df in march_data_2024.groupby('lpep_pickup_date'):\n",
    "    report = Report(metrics=[\n",
    "        ColumnQuantileMetric(column_name=\"fare_amount\", quantile=0.5)\n",
    "    ])\n",
    "    report.run(reference_data=day_df, current_data=day_df)\n",
    "    \n",
    "    result = report.as_dict()\n",
    "    \n",
    "    try:\n",
    "        median_value = result[\"metrics\"][0][\"result\"][\"current\"][\"value\"]\n",
    "        daily_medians.append((str(day), median_value))\n",
    "    except KeyError:\n",
    "        continue  # skip if no result\n",
    "\n",
    "# Convert to DataFrame and find the maximum\n",
    "# Convert to DataFrame\n",
    "median_df = pd.DataFrame(daily_medians, columns=[\"date\", \"median_fare\"])\n",
    "\n",
    "# Convert 'date' column to datetime type (if not already)\n",
    "median_df['date'] = pd.to_datetime(median_df['date'])\n",
    "\n",
    "# Filter only March 2024\n",
    "median_df = median_df[\n",
    "    (median_df['date'] >= '2024-03-01') & (median_df['date'] <= '2024-03-31')\n",
    "]\n",
    "\n",
    "# Find the date with the highest median fare in March\n",
    "max_day = median_df.loc[median_df['median_fare'].idxmax()]\n",
    "\n",
    "print(\" Max median fare in March 2024:\", max_day['date'].date())\n",
    "print(\" Max median fare_amount:\", max_day['median_fare'])"
   ]
  },
  {
   "cell_type": "markdown",
   "id": "926222c0",
   "metadata": {},
   "source": [
    "## Question 04 : Where to place a dashboard config file?"
   ]
  },
  {
   "cell_type": "markdown",
   "id": "9a0c9351-ac9f-4c52-b1e0-9f9759c1ae8a",
   "metadata": {},
   "source": [
    "- project_folder/config (05-monitoring/config)="
   ]
  },
  {
   "cell_type": "markdown",
   "id": "926d82c1",
   "metadata": {},
   "source": []
  }
 ],
 "metadata": {
  "kernelspec": {
   "display_name": "Python 3 (ipykernel)",
   "language": "python",
   "name": "python3"
  },
  "language_info": {
   "codemirror_mode": {
    "name": "ipython",
    "version": 3
   },
   "file_extension": ".py",
   "mimetype": "text/x-python",
   "name": "python",
   "nbconvert_exporter": "python",
   "pygments_lexer": "ipython3",
   "version": "3.12.4"
  }
 },
 "nbformat": 4,
 "nbformat_minor": 5
}
